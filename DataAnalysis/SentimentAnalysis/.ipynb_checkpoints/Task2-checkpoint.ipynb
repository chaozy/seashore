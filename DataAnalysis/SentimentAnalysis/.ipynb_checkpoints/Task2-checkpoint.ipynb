{
 "cells": [
  {
   "cell_type": "code",
   "execution_count": 1,
   "metadata": {},
   "outputs": [
    {
     "name": "stderr",
     "output_type": "stream",
     "text": [
      "ERROR:lml.utils:failed to import pyecharts_snapshot\n",
      "Traceback (most recent call last):\n",
      "  File \"/Users/chaozy/anaconda3/lib/python3.6/site-packages/lml/utils.py\", line 43, in do_import\n",
      "    plugin_module = __import__(plugin_module_name)\n",
      "ModuleNotFoundError: No module named 'pyecharts_snapshot'\n"
     ]
    }
   ],
   "source": [
    "import requests \n",
    "import json\n",
    "import pandas as pd\n",
    "import warnings\n",
    "import pyecharts as pe"
   ]
  },
  {
   "cell_type": "code",
   "execution_count": 2,
   "metadata": {},
   "outputs": [],
   "source": [
    "# GET Access Token\n",
    "host = 'https://aip.baidubce.com/oauth/2.0/token?grant_type=client_credentials&client_id=E52brsYEkEv9bG7xwqecY64S&client_secret=BAaNBmr3gV7PHIfMFbYBd3QVfT4sFQC9'\n",
    "response = requests.get(host)\n",
    "if response:\n",
    "    access_token = response.json()['access_token']\n",
    "# Fill in header parameters\n",
    "headers = {'content-type': 'application/json'}\n",
    "\n",
    "# 生成url\n",
    "url_sentiment_classify = 'https://aip.baidubce.com/rpc/2.0/nlp/v1/sentiment_classify?charset=UTF-8&access_token=' +  access_token"
   ]
  },
  {
   "cell_type": "code",
   "execution_count": 3,
   "metadata": {},
   "outputs": [
    {
     "data": {
      "text/plain": [
       "'孙杨的事情，还没有结束。最近，他的妈妈杨明，也被卷进了舆论风波中。在国际体育仲裁法庭宣布孙杨禁赛八年后，爱子心切的孙妈妈，在朋友圈发了一条长文。文章开头，就在哭诉儿子的不容易。之后，她就开始指责领导的不负责，指派律师的不专业。首先，她表明孙杨在08年因为身体不适服用了含有盐酸曲美他嗪的“万爽力。”当时，这药物还未变成“赛内禁用，赛外可用”的违禁药。直到过了6年，中国反兴奋剂网站才下发通知，表明“万爽力”是违禁药，强调运动员对此是毫不知情。当年不知情的孙杨，还是正常使用了“万爽力”，没想到体检是阳性，为此还被口头警告，要求罚款5000元。对于自己被“冤枉”，孙杨当然是不乐意的。但是在领导说出“不会影响成绩”后，孙杨妈妈选择先把这件事情放下，让儿子继续比赛。孙杨，也这么做了。听话的后果，就让这件事成为了“孙杨职业生涯最大的耻辱柱。”再之后参加国际听证会和仲裁会，孙杨妈妈也认为领导指派的律师专业性十分不强，影响了最终结果的判断，导致了自己儿子被禁赛8年的事情发生。整篇文章看下来，可以看出孙杨妈妈的不甘和怒气。也能看出，她意在把事情的全部责任，都推卸到别人身上。但是，真相似乎并不像孙杨妈妈所指的一样，孙杨被禁赛长达8年，只有别人的责任，自己毫无问题。前不久，有人在网上放出了孙杨妈妈在听证会的一段视频曝光。在听证会上，孙杨妈妈一直不愿正面回答对方提出的问题。并且不顾规则，总是中途打断对方，浪费了许多时间。法官问了三遍“孙杨是否撕毁了他之前签字的检验单？”孙杨妈妈是承认了，但却一直解释，自己儿子的暴力抗检，是“有理有据。”明明是回答是或者不是的问题，孙杨妈妈却一直自说自话，胡乱辩解。直到她的证词时间已经结束了，她还要强调“我还没说完。”不听安排，无视规则。而且据爆料，孙杨妈妈在去年6月，还曾私下联系过血检官和尿检官。这些，都是WADA明令禁止的。这一系列操作看下来，孙杨妈妈对于整件事而言，没有任何正面帮助，还帮了倒忙。在孙杨的成长道路，运动员生涯中，最离不开和最常见到的身影，就是他的妈妈杨明。作为曾经的浙江女排主力，专业的运动员，杨明深知运动员锻炼时间的重要性。在孙杨小时候，杨明是风雨无阻开车送儿子去训练，完全没有自我时间。为了让孩子把一切时间运用在游泳上，杨明更是把孙杨当成了“巨婴”去养。小学六年级，孙杨还不会系鞋带，上学训练也是从不背书包。在杨明的眼里，这些都是小事，什么事情，都没有游泳训练重要。对于自己无私奉献，杨明也是十分的骄傲。她认为是自己的牺牲成全，才有了现今的孙杨。不能否认，孙杨是一个游泳健将，他在国际赛事上的成绩，就是最好的证明。但私下里的孙杨，远没有他在国际体坛上表现的那么完美。生活中孙杨的不完美，也同样离不开母亲杨明的“帮助”。2010年，孙杨跟随朱志根前往澳大利亚训练。在公开训练场，19岁的孙杨没有围浴巾换泳裤，正好被外国女选手撞见。女选手走后找到了教练朱志根，希望他能能提醒孙杨不要再做这种不雅的事情。孙杨对于自己做过的事情是矢口否认，连着被问两次，他也强硬表示“决无此事。”明明在撒谎却如此有底气，气不过的朱志根直接给了孙杨一巴掌。这件事被杨明知道后，她并没有平息双方怒火，反而火上浇油向学院领导打了电话，痛斥教练不尊重孙杨，伤害了孩子的自尊心。之后，杨明为了孙杨的运动生涯，更是多次与人起过冲突，丝毫不在意他人的看法。为照顾孙杨，杨明要求住进运动员酒店与儿子同住。为孙杨的游泳训练，杨明在现场记录对手的训练记录，还会对着旁人埋怨：“这要换成朱志根，他能做到这些？”对于集体安排的活动，杨明有异议就直接向国家体育总局开炮。孙杨成绩不如意，杨明不去想儿子的问题，而是去指责教练教导的有问题。有媒体不远万里从巴西过来想要采访孙杨，杨明直接问了一句：你们电视节目在巴西放，对我们有什么好处？对国外的记者不客气，杨明对国内的记者媒体，也十分的不礼貌。有一次孙杨进行完体能训练走出场馆后，记者和粉丝拿着镜头对孙杨拍照。身为领队和母亲的杨明，看到现场状况后疯狂发飙，大喊：“别拍了！烦死了！讨厌死了！”更有传言称，杨明还用水瓶砸了一个记者的相机。据知情者爆料，孙杨在天津训练时不仅要求卡宴，奥迪接送，下水前还要母亲和保镖陪着。杨明更是大牌到只接受央视记者的采访，其余的记者，通通不见。事情被报道后，杨明着重强调是“无中生有。”孙杨更是为妈妈开了个发布会，“希望大家能够理解妈妈。”接受其他采访，杨明更是对主持人有很大的意见，在现场就直接黑脸。杨明仗着孙杨的名气耍大牌，对儿子一次次的纵容和任性，惹怒了训练队。12年伦敦奥运结束才半年，孙杨就开始不听组织安排不服从纪律。在运动员最需要集中系统训练的时候，孙杨不仅私自谈恋爱，还频繁出席商业活动。面对教练的批评，孙杨根本不听，还对着朱志根说“你的训练太落后，我不跟你练了。”一次次的顶撞冲突，浙江体育职业技术学院对孙杨做出了严厉处罚。院长接受采访时，也明确表明“在浙江只有优秀运动员，没有特殊运动员。”经历耍大牌，不听要求，被训练队惩罚后，孙杨的名气一落千丈，个人形象顷刻坍塌。这时的孙杨，仍没有吸收教训，触犯了法律，因为无证驾驶被行政拘留了7天。而且在交涉过程中，孙杨再一次撒了慌，对外说自己有驾驶证。同时还被曝出早前就曾多次在没有驾照的情况下独自驾车外出。个人形象再次受损。也因为这次无证驾驶，孙杨的空姐女友浮出了水面。孙杨对于这个女友也是十分宝贝，曾对着母亲杨明说要把她娶进门。但杨明并不满意这个比孙杨大6岁的女朋友，并未同意。后有媒体拍到该空姐曾带着一个孩子外出，有不少人怀疑这个孩子是孙杨的私生子。只不过孙杨对外，从未正面回应过。对外风评不佳，在队里，孙杨也不受队友的待见。有队友爆料，孙杨成绩提高后十分傲慢目中无人。孙杨也因为傲慢性格被孤立后，就开始和圈外的狐朋狗友交朋友，逛夜店，泡歌厅。这些事情，放在任何一个公众人物身上，都能让他一蹶不振很难东山再起。但对于有着超强业务能力的孙杨来说，这些都不是问题。即使有负面新闻缠身，在他再次取得取得傲人成绩后，人们就逐渐忘记了他之前的任性耍大牌。摇身一变，孙杨又成为了大家眼中可爱的大白杨。即使后面他因穿个人签约品牌违反规定遭争议，孙杨也并未回应。而这些也都未击垮他的职业生涯，观众们也没做太多关心。直到14年，孙杨因为服用违禁药品问题，完美的职业生涯出现了一个缺口。这一次的抗检事件，更成为压死骆驼的最后一根稻草。孙杨也为他的不配合，蛮横嚣张的态度付出了太过于沉重的代价。而这背后，离不开他母亲杨明在后面的无限纵容，推波助澜。从此次她在听证会的表现可看出，这么多年，她的脾气仍没有改变，面对官方和媒体，她依旧按着自己的那一套处理事情。她以为靠着自己的七寸不烂之舌可以为儿子洗清冤屈，殊不知她的一番话，把孙杨推向了摸不见底的深潭。这次孙杨能被禁赛长达8年，更是离不开她的“亲力亲为。”事情再次发酵后，杨明删除了朋友圈的控诉，孙杨的微博里，也没有他当晚发的几条证据。好在孙杨这次还有上诉的机会，如若成功，他的职业生涯还能延长几年。希望这次惨痛教训能让孙杨妈妈知道，孙杨，早就不是象牙塔里的孩子。你的亲切关怀不是蜜糖，是砒霜。29岁的孙杨，也应该明白，人生除了比赛，还有做人。奥运冠军的光环，不可能罩着你一辈子。'"
      ]
     },
     "execution_count": 3,
     "metadata": {},
     "output_type": "execute_result"
    }
   ],
   "source": [
    "with open(\"SunYung.txt\", 'r') as file:\n",
    "    data = file.read().replace('\\n', '')\n",
    "data"
   ]
  },
  {
   "cell_type": "code",
   "execution_count": 4,
   "metadata": {},
   "outputs": [
    {
     "data": {
      "text/plain": [
       "['孙杨的事情，还没有结束',\n",
       " '最近，他的妈妈杨明，也被卷进了舆论风波中',\n",
       " '在国际体育仲裁法庭宣布孙杨禁赛八年后，爱子心切的孙妈妈，在朋友圈发了一条长文',\n",
       " '文章开头，就在哭诉儿子的不容易',\n",
       " '之后，她就开始指责领导的不负责，指派律师的不专业',\n",
       " '首先，她表明孙杨在08年因为身体不适服用了含有盐酸曲美他嗪的“万爽力',\n",
       " '”当时，这药物还未变成“赛内禁用，赛外可用”的违禁药',\n",
       " '直到过了6年，中国反兴奋剂网站才下发通知，表明“万爽力”是违禁药，强调运动员对此是毫不知情',\n",
       " '当年不知情的孙杨，还是正常使用了“万爽力”，没想到体检是阳性，为此还被口头警告，要求罚款5000元',\n",
       " '对于自己被“冤枉”，孙杨当然是不乐意的',\n",
       " '但是在领导说出“不会影响成绩”后，孙杨妈妈选择先把这件事情放下，让儿子继续比赛',\n",
       " '孙杨，也这么做了',\n",
       " '听话的后果，就让这件事成为了“孙杨职业生涯最大的耻辱柱',\n",
       " '”再之后参加国际听证会和仲裁会，孙杨妈妈也认为领导指派的律师专业性十分不强，影响了最终结果的判断，导致了自己儿子被禁赛8年的事情发生',\n",
       " '整篇文章看下来，可以看出孙杨妈妈的不甘和怒气',\n",
       " '也能看出，她意在把事情的全部责任，都推卸到别人身上',\n",
       " '但是，真相似乎并不像孙杨妈妈所指的一样，孙杨被禁赛长达8年，只有别人的责任，自己毫无问题',\n",
       " '前不久，有人在网上放出了孙杨妈妈在听证会的一段视频曝光',\n",
       " '在听证会上，孙杨妈妈一直不愿正面回答对方提出的问题',\n",
       " '并且不顾规则，总是中途打断对方，浪费了许多时间',\n",
       " '法官问了三遍“孙杨是否撕毁了他之前签字的检验单？”孙杨妈妈是承认了，但却一直解释，自己儿子的暴力抗检，是“有理有据',\n",
       " '”明明是回答是或者不是的问题，孙杨妈妈却一直自说自话，胡乱辩解',\n",
       " '直到她的证词时间已经结束了，她还要强调“我还没说完',\n",
       " '”不听安排，无视规则',\n",
       " '而且据爆料，孙杨妈妈在去年6月，还曾私下联系过血检官和尿检官',\n",
       " '这些，都是WADA明令禁止的',\n",
       " '这一系列操作看下来，孙杨妈妈对于整件事而言，没有任何正面帮助，还帮了倒忙',\n",
       " '在孙杨的成长道路，运动员生涯中，最离不开和最常见到的身影，就是他的妈妈杨明',\n",
       " '作为曾经的浙江女排主力，专业的运动员，杨明深知运动员锻炼时间的重要性',\n",
       " '在孙杨小时候，杨明是风雨无阻开车送儿子去训练，完全没有自我时间',\n",
       " '为了让孩子把一切时间运用在游泳上，杨明更是把孙杨当成了“巨婴”去养',\n",
       " '小学六年级，孙杨还不会系鞋带，上学训练也是从不背书包',\n",
       " '在杨明的眼里，这些都是小事，什么事情，都没有游泳训练重要',\n",
       " '对于自己无私奉献，杨明也是十分的骄傲',\n",
       " '她认为是自己的牺牲成全，才有了现今的孙杨',\n",
       " '不能否认，孙杨是一个游泳健将，他在国际赛事上的成绩，就是最好的证明',\n",
       " '但私下里的孙杨，远没有他在国际体坛上表现的那么完美',\n",
       " '生活中孙杨的不完美，也同样离不开母亲杨明的“帮助”',\n",
       " '2010年，孙杨跟随朱志根前往澳大利亚训练',\n",
       " '在公开训练场，19岁的孙杨没有围浴巾换泳裤，正好被外国女选手撞见',\n",
       " '女选手走后找到了教练朱志根，希望他能能提醒孙杨不要再做这种不雅的事情',\n",
       " '孙杨对于自己做过的事情是矢口否认，连着被问两次，他也强硬表示“决无此事',\n",
       " '”明明在撒谎却如此有底气，气不过的朱志根直接给了孙杨一巴掌',\n",
       " '这件事被杨明知道后，她并没有平息双方怒火，反而火上浇油向学院领导打了电话，痛斥教练不尊重孙杨，伤害了孩子的自尊心',\n",
       " '之后，杨明为了孙杨的运动生涯，更是多次与人起过冲突，丝毫不在意他人的看法',\n",
       " '为照顾孙杨，杨明要求住进运动员酒店与儿子同住',\n",
       " '为孙杨的游泳训练，杨明在现场记录对手的训练记录，还会对着旁人埋怨：“这要换成朱志根，他能做到这些？”对于集体安排的活动，杨明有异议就直接向国家体育总局开炮',\n",
       " '孙杨成绩不如意，杨明不去想儿子的问题，而是去指责教练教导的有问题',\n",
       " '有媒体不远万里从巴西过来想要采访孙杨，杨明直接问了一句：你们电视节目在巴西放，对我们有什么好处？对国外的记者不客气，杨明对国内的记者媒体，也十分的不礼貌',\n",
       " '有一次孙杨进行完体能训练走出场馆后，记者和粉丝拿着镜头对孙杨拍照',\n",
       " '身为领队和母亲的杨明，看到现场状况后疯狂发飙，大喊：“别拍了！烦死了！讨厌死了！”更有传言称，杨明还用水瓶砸了一个记者的相机',\n",
       " '据知情者爆料，孙杨在天津训练时不仅要求卡宴，奥迪接送，下水前还要母亲和保镖陪着',\n",
       " '杨明更是大牌到只接受央视记者的采访，其余的记者，通通不见',\n",
       " '事情被报道后，杨明着重强调是“无中生有',\n",
       " '”孙杨更是为妈妈开了个发布会，“希望大家能够理解妈妈',\n",
       " '”接受其他采访，杨明更是对主持人有很大的意见，在现场就直接黑脸',\n",
       " '杨明仗着孙杨的名气耍大牌，对儿子一次次的纵容和任性，惹怒了训练队',\n",
       " '12年伦敦奥运结束才半年，孙杨就开始不听组织安排不服从纪律',\n",
       " '在运动员最需要集中系统训练的时候，孙杨不仅私自谈恋爱，还频繁出席商业活动',\n",
       " '面对教练的批评，孙杨根本不听，还对着朱志根说“你的训练太落后，我不跟你练了',\n",
       " '”一次次的顶撞冲突，浙江体育职业技术学院对孙杨做出了严厉处罚',\n",
       " '院长接受采访时，也明确表明“在浙江只有优秀运动员，没有特殊运动员',\n",
       " '”经历耍大牌，不听要求，被训练队惩罚后，孙杨的名气一落千丈，个人形象顷刻坍塌',\n",
       " '这时的孙杨，仍没有吸收教训，触犯了法律，因为无证驾驶被行政拘留了7天',\n",
       " '而且在交涉过程中，孙杨再一次撒了慌，对外说自己有驾驶证',\n",
       " '同时还被曝出早前就曾多次在没有驾照的情况下独自驾车外出',\n",
       " '个人形象再次受损',\n",
       " '也因为这次无证驾驶，孙杨的空姐女友浮出了水面',\n",
       " '孙杨对于这个女友也是十分宝贝，曾对着母亲杨明说要把她娶进门',\n",
       " '但杨明并不满意这个比孙杨大6岁的女朋友，并未同意',\n",
       " '后有媒体拍到该空姐曾带着一个孩子外出，有不少人怀疑这个孩子是孙杨的私生子',\n",
       " '只不过孙杨对外，从未正面回应过',\n",
       " '对外风评不佳，在队里，孙杨也不受队友的待见',\n",
       " '有队友爆料，孙杨成绩提高后十分傲慢目中无人',\n",
       " '孙杨也因为傲慢性格被孤立后，就开始和圈外的狐朋狗友交朋友，逛夜店，泡歌厅',\n",
       " '这些事情，放在任何一个公众人物身上，都能让他一蹶不振很难东山再起',\n",
       " '但对于有着超强业务能力的孙杨来说，这些都不是问题',\n",
       " '即使有负面新闻缠身，在他再次取得取得傲人成绩后，人们就逐渐忘记了他之前的任性耍大牌',\n",
       " '摇身一变，孙杨又成为了大家眼中可爱的大白杨',\n",
       " '即使后面他因穿个人签约品牌违反规定遭争议，孙杨也并未回应',\n",
       " '而这些也都未击垮他的职业生涯，观众们也没做太多关心',\n",
       " '直到14年，孙杨因为服用违禁药品问题，完美的职业生涯出现了一个缺口',\n",
       " '这一次的抗检事件，更成为压死骆驼的最后一根稻草',\n",
       " '孙杨也为他的不配合，蛮横嚣张的态度付出了太过于沉重的代价',\n",
       " '而这背后，离不开他母亲杨明在后面的无限纵容，推波助澜',\n",
       " '从此次她在听证会的表现可看出，这么多年，她的脾气仍没有改变，面对官方和媒体，她依旧按着自己的那一套处理事情',\n",
       " '她以为靠着自己的七寸不烂之舌可以为儿子洗清冤屈，殊不知她的一番话，把孙杨推向了摸不见底的深潭',\n",
       " '这次孙杨能被禁赛长达8年，更是离不开她的“亲力亲为',\n",
       " '”事情再次发酵后，杨明删除了朋友圈的控诉，孙杨的微博里，也没有他当晚发的几条证据',\n",
       " '好在孙杨这次还有上诉的机会，如若成功，他的职业生涯还能延长几年',\n",
       " '希望这次惨痛教训能让孙杨妈妈知道，孙杨，早就不是象牙塔里的孩子',\n",
       " '你的亲切关怀不是蜜糖，是砒霜',\n",
       " '29岁的孙杨，也应该明白，人生除了比赛，还有做人',\n",
       " '奥运冠军的光环，不可能罩着你一辈子',\n",
       " '']"
      ]
     },
     "execution_count": 4,
     "metadata": {},
     "output_type": "execute_result"
    }
   ],
   "source": [
    "# Split the file\n",
    "sentenceList = data.split('。')\n",
    "sentenceList"
   ]
  },
  {
   "cell_type": "code",
   "execution_count": 5,
   "metadata": {},
   "outputs": [
    {
     "name": "stdout",
     "output_type": "stream",
     "text": [
      "[{'positive_prob': 0.0471634, 'confidence': 0.895192, 'negative_prob': 0.952837, 'sentiment': 0}]\n"
     ]
    },
    {
     "data": {
      "text/plain": [
       "0.952837"
      ]
     },
     "execution_count": 5,
     "metadata": {},
     "output_type": "execute_result"
    }
   ],
   "source": [
    "def sentiment_ana(data):\n",
    "    # perform word analysis on this article\n",
    "    response = requests.post(url_sentiment_classify, \n",
    "        data = json.dumps({'text': data}),    # news变量写在这里\n",
    "        headers = headers)\n",
    "    if response:\n",
    "        print(response.json()[\"items\"])\n",
    "        result = response.json()['items'][0]['negative_prob']\n",
    "        return result\n",
    "        \n",
    "sentiment_ana(sentenceList[0])"
   ]
  },
  {
   "cell_type": "code",
   "execution_count": 38,
   "metadata": {},
   "outputs": [],
   "source": [
    "def fullText_sentiment_ana(dataList):\n",
    "    displayList = []\n",
    "    for sentence in dataList:\n",
    "        try:\n",
    "            displayList.append({\"Sentence\" : sentence, \"nega_prob\" : sentiment_ana(sentence)})\n",
    "        except:\n",
    "            continue\n",
    "    return displayList\n",
    "lis = fullText_sentiment_ana(sentenceList)"
   ]
  },
  {
   "cell_type": "code",
   "execution_count": 41,
   "metadata": {},
   "outputs": [
    {
     "data": {
      "text/html": [
       "<div>\n",
       "<style scoped>\n",
       "    .dataframe tbody tr th:only-of-type {\n",
       "        vertical-align: middle;\n",
       "    }\n",
       "\n",
       "    .dataframe tbody tr th {\n",
       "        vertical-align: top;\n",
       "    }\n",
       "\n",
       "    .dataframe thead th {\n",
       "        text-align: right;\n",
       "    }\n",
       "</style>\n",
       "<table border=\"1\" class=\"dataframe\">\n",
       "  <thead>\n",
       "    <tr style=\"text-align: right;\">\n",
       "      <th></th>\n",
       "      <th>Sentence</th>\n",
       "      <th>nega_prob</th>\n",
       "    </tr>\n",
       "  </thead>\n",
       "  <tbody>\n",
       "    <tr>\n",
       "      <th>0</th>\n",
       "      <td>孙杨的事情，还没有结束</td>\n",
       "      <td>0.952837</td>\n",
       "    </tr>\n",
       "    <tr>\n",
       "      <th>1</th>\n",
       "      <td>最近，他的妈妈杨明，也被卷进了舆论风波中</td>\n",
       "      <td>0.162765</td>\n",
       "    </tr>\n",
       "    <tr>\n",
       "      <th>2</th>\n",
       "      <td>但是在领导说出“不会影响成绩”后，孙杨妈妈选择先把这件事情放下，让儿子继续比赛</td>\n",
       "      <td>0.119193</td>\n",
       "    </tr>\n",
       "    <tr>\n",
       "      <th>3</th>\n",
       "      <td>孙杨，也这么做了</td>\n",
       "      <td>0.658172</td>\n",
       "    </tr>\n",
       "    <tr>\n",
       "      <th>4</th>\n",
       "      <td>并且不顾规则，总是中途打断对方，浪费了许多时间</td>\n",
       "      <td>0.999930</td>\n",
       "    </tr>\n",
       "    <tr>\n",
       "      <th>5</th>\n",
       "      <td>法官问了三遍“孙杨是否撕毁了他之前签字的检验单？”孙杨妈妈是承认了，但却一直解释，自己儿子的...</td>\n",
       "      <td>0.999097</td>\n",
       "    </tr>\n",
       "    <tr>\n",
       "      <th>6</th>\n",
       "      <td>直到她的证词时间已经结束了，她还要强调“我还没说完</td>\n",
       "      <td>0.959724</td>\n",
       "    </tr>\n",
       "    <tr>\n",
       "      <th>7</th>\n",
       "      <td>”不听安排，无视规则</td>\n",
       "      <td>0.998993</td>\n",
       "    </tr>\n",
       "    <tr>\n",
       "      <th>8</th>\n",
       "      <td>这一系列操作看下来，孙杨妈妈对于整件事而言，没有任何正面帮助，还帮了倒忙</td>\n",
       "      <td>0.370259</td>\n",
       "    </tr>\n",
       "    <tr>\n",
       "      <th>9</th>\n",
       "      <td>在孙杨的成长道路，运动员生涯中，最离不开和最常见到的身影，就是他的妈妈杨明</td>\n",
       "      <td>0.000293</td>\n",
       "    </tr>\n",
       "    <tr>\n",
       "      <th>10</th>\n",
       "      <td>生活中孙杨的不完美，也同样离不开母亲杨明的“帮助”</td>\n",
       "      <td>0.045804</td>\n",
       "    </tr>\n",
       "    <tr>\n",
       "      <th>11</th>\n",
       "      <td>2010年，孙杨跟随朱志根前往澳大利亚训练</td>\n",
       "      <td>0.002291</td>\n",
       "    </tr>\n",
       "    <tr>\n",
       "      <th>12</th>\n",
       "      <td>为照顾孙杨，杨明要求住进运动员酒店与儿子同住</td>\n",
       "      <td>0.023235</td>\n",
       "    </tr>\n",
       "    <tr>\n",
       "      <th>13</th>\n",
       "      <td>为孙杨的游泳训练，杨明在现场记录对手的训练记录，还会对着旁人埋怨：“这要换成朱志根，他能做到...</td>\n",
       "      <td>0.734823</td>\n",
       "    </tr>\n",
       "    <tr>\n",
       "      <th>14</th>\n",
       "      <td>”接受其他采访，杨明更是对主持人有很大的意见，在现场就直接黑脸</td>\n",
       "      <td>0.872229</td>\n",
       "    </tr>\n",
       "    <tr>\n",
       "      <th>15</th>\n",
       "      <td>杨明仗着孙杨的名气耍大牌，对儿子一次次的纵容和任性，惹怒了训练队</td>\n",
       "      <td>0.983282</td>\n",
       "    </tr>\n",
       "    <tr>\n",
       "      <th>16</th>\n",
       "      <td>而且在交涉过程中，孙杨再一次撒了慌，对外说自己有驾驶证</td>\n",
       "      <td>0.980019</td>\n",
       "    </tr>\n",
       "    <tr>\n",
       "      <th>17</th>\n",
       "      <td>同时还被曝出早前就曾多次在没有驾照的情况下独自驾车外出</td>\n",
       "      <td>0.708970</td>\n",
       "    </tr>\n",
       "    <tr>\n",
       "      <th>18</th>\n",
       "      <td>个人形象再次受损</td>\n",
       "      <td>0.977282</td>\n",
       "    </tr>\n",
       "    <tr>\n",
       "      <th>19</th>\n",
       "      <td>也因为这次无证驾驶，孙杨的空姐女友浮出了水面</td>\n",
       "      <td>0.239585</td>\n",
       "    </tr>\n",
       "    <tr>\n",
       "      <th>20</th>\n",
       "      <td>这些事情，放在任何一个公众人物身上，都能让他一蹶不振很难东山再起</td>\n",
       "      <td>0.990032</td>\n",
       "    </tr>\n",
       "    <tr>\n",
       "      <th>21</th>\n",
       "      <td>但对于有着超强业务能力的孙杨来说，这些都不是问题</td>\n",
       "      <td>0.129657</td>\n",
       "    </tr>\n",
       "    <tr>\n",
       "      <th>22</th>\n",
       "      <td>孙杨也为他的不配合，蛮横嚣张的态度付出了太过于沉重的代价</td>\n",
       "      <td>0.999587</td>\n",
       "    </tr>\n",
       "    <tr>\n",
       "      <th>23</th>\n",
       "      <td>而这背后，离不开他母亲杨明在后面的无限纵容，推波助澜</td>\n",
       "      <td>0.516555</td>\n",
       "    </tr>\n",
       "    <tr>\n",
       "      <th>24</th>\n",
       "      <td>29岁的孙杨，也应该明白，人生除了比赛，还有做人</td>\n",
       "      <td>0.145046</td>\n",
       "    </tr>\n",
       "    <tr>\n",
       "      <th>25</th>\n",
       "      <td>奥运冠军的光环，不可能罩着你一辈子</td>\n",
       "      <td>0.963952</td>\n",
       "    </tr>\n",
       "  </tbody>\n",
       "</table>\n",
       "</div>"
      ],
      "text/plain": [
       "                                             Sentence  nega_prob\n",
       "0                                         孙杨的事情，还没有结束   0.952837\n",
       "1                                最近，他的妈妈杨明，也被卷进了舆论风波中   0.162765\n",
       "2             但是在领导说出“不会影响成绩”后，孙杨妈妈选择先把这件事情放下，让儿子继续比赛   0.119193\n",
       "3                                            孙杨，也这么做了   0.658172\n",
       "4                             并且不顾规则，总是中途打断对方，浪费了许多时间   0.999930\n",
       "5   法官问了三遍“孙杨是否撕毁了他之前签字的检验单？”孙杨妈妈是承认了，但却一直解释，自己儿子的...   0.999097\n",
       "6                           直到她的证词时间已经结束了，她还要强调“我还没说完   0.959724\n",
       "7                                          ”不听安排，无视规则   0.998993\n",
       "8                这一系列操作看下来，孙杨妈妈对于整件事而言，没有任何正面帮助，还帮了倒忙   0.370259\n",
       "9               在孙杨的成长道路，运动员生涯中，最离不开和最常见到的身影，就是他的妈妈杨明   0.000293\n",
       "10                          生活中孙杨的不完美，也同样离不开母亲杨明的“帮助”   0.045804\n",
       "11                              2010年，孙杨跟随朱志根前往澳大利亚训练   0.002291\n",
       "12                             为照顾孙杨，杨明要求住进运动员酒店与儿子同住   0.023235\n",
       "13  为孙杨的游泳训练，杨明在现场记录对手的训练记录，还会对着旁人埋怨：“这要换成朱志根，他能做到...   0.734823\n",
       "14                    ”接受其他采访，杨明更是对主持人有很大的意见，在现场就直接黑脸   0.872229\n",
       "15                   杨明仗着孙杨的名气耍大牌，对儿子一次次的纵容和任性，惹怒了训练队   0.983282\n",
       "16                        而且在交涉过程中，孙杨再一次撒了慌，对外说自己有驾驶证   0.980019\n",
       "17                        同时还被曝出早前就曾多次在没有驾照的情况下独自驾车外出   0.708970\n",
       "18                                           个人形象再次受损   0.977282\n",
       "19                             也因为这次无证驾驶，孙杨的空姐女友浮出了水面   0.239585\n",
       "20                   这些事情，放在任何一个公众人物身上，都能让他一蹶不振很难东山再起   0.990032\n",
       "21                           但对于有着超强业务能力的孙杨来说，这些都不是问题   0.129657\n",
       "22                       孙杨也为他的不配合，蛮横嚣张的态度付出了太过于沉重的代价   0.999587\n",
       "23                         而这背后，离不开他母亲杨明在后面的无限纵容，推波助澜   0.516555\n",
       "24                           29岁的孙杨，也应该明白，人生除了比赛，还有做人   0.145046\n",
       "25                                  奥运冠军的光环，不可能罩着你一辈子   0.963952"
      ]
     },
     "execution_count": 41,
     "metadata": {},
     "output_type": "execute_result"
    }
   ],
   "source": [
    "# Put the analysis result into a table\n",
    "ana_table = pd.DataFrame(lis)\n",
    "ana_table\n"
   ]
  },
  {
   "cell_type": "code",
   "execution_count": 44,
   "metadata": {},
   "outputs": [
    {
     "data": {
      "text/plain": [
       "<matplotlib.axes._subplots.AxesSubplot at 0x11108bda0>"
      ]
     },
     "execution_count": 44,
     "metadata": {},
     "output_type": "execute_result"
    },
    {
     "data": {
      "image/png": "[encoded data removed]",
      "text/plain": [
       "<Figure size 1080x360 with 1 Axes>"
      ]
     },
     "metadata": {},
     "output_type": "display_data"
    }
   ],
   "source": [
    "# DRAW the emotion changing graph\n",
    "ana_table[\"nega_prob\"].plot(title=\"Emotion Chaning Graph\", figsize=(15, 5), kind=\"kde\", grid=True)"
   ]
  },
  {
   "cell_type": "code",
   "execution_count": null,
   "metadata": {},
   "outputs": [],
   "source": []
  }
 ],
 "metadata": {
  "file_extension": ".py",
  "kernelspec": {
   "display_name": "Python 3",
   "language": "python",
   "name": "python3"
  },
  "language_info": {
   "codemirror_mode": {
    "name": "ipython",
    "version": 3
   },
   "file_extension": ".py",
   "mimetype": "text/x-python",
   "name": "python",
   "nbconvert_exporter": "python",
   "pygments_lexer": "ipython3",
   "version": "3.6.8"
  },
  "mimetype": "text/x-python",
  "name": "python",
  "npconvert_exporter": "python",
  "pygments_lexer": "ipython3",
  "version": 3
 },
 "nbformat": 4,
 "nbformat_minor": 2
}
